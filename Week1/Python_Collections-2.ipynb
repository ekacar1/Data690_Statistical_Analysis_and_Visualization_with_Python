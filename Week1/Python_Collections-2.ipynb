{
 "cells": [
  {
   "cell_type": "markdown",
   "metadata": {},
   "source": [
    "Tehere are four collection data types in Python Programming Language:"
   ]
  },
  {
   "cell_type": "markdown",
   "metadata": {},
   "source": [
    "# LISTs"
   ]
  },
  {
   "cell_type": "code",
   "execution_count": 1,
   "metadata": {
    "colab": {
     "base_uri": "https://localhost:8080/",
     "height": 34
    },
    "colab_type": "code",
    "id": "AkzHbQJ-FVC-",
    "outputId": "6e4d59cb-e0e9-48e5-cc6d-be9155e3bce7"
   },
   "outputs": [
    {
     "name": "stdout",
     "output_type": "stream",
     "text": [
      "['apple', 'banana', 'cherry']\n"
     ]
    }
   ],
   "source": [
    "# A list is a collection which is ordered and changeable. In Python lists are written with square brackets.\n",
    "thislist = [\"apple\", \"banana\", \"cherry\"]\n",
    "print(thislist)"
   ]
  },
  {
   "cell_type": "code",
   "execution_count": 2,
   "metadata": {
    "colab": {
     "base_uri": "https://localhost:8080/",
     "height": 34
    },
    "colab_type": "code",
    "id": "5B5a2TxLFfcW",
    "outputId": "61a17687-e2c3-4088-ae5d-513edc07dbb5"
   },
   "outputs": [
    {
     "name": "stdout",
     "output_type": "stream",
     "text": [
      "banana\n"
     ]
    }
   ],
   "source": [
    "print(thislist[1])"
   ]
  },
  {
   "cell_type": "code",
   "execution_count": 3,
   "metadata": {
    "colab": {
     "base_uri": "https://localhost:8080/",
     "height": 34
    },
    "colab_type": "code",
    "id": "5T986BdPFisx",
    "outputId": "f27816f0-54d4-41a8-f39d-af1d02d88934"
   },
   "outputs": [
    {
     "name": "stdout",
     "output_type": "stream",
     "text": [
      "['apple', 'banana', 'orange']\n"
     ]
    }
   ],
   "source": [
    "# Change Item Value\n",
    "thislist[2] = \"orange\"\n",
    "print(thislist)"
   ]
  },
  {
   "cell_type": "code",
   "execution_count": 4,
   "metadata": {
    "colab": {
     "base_uri": "https://localhost:8080/",
     "height": 68
    },
    "colab_type": "code",
    "id": "rC1t0COAFrQB",
    "outputId": "6d81dc4f-6b18-4b2c-f864-2339ac030668"
   },
   "outputs": [
    {
     "name": "stdout",
     "output_type": "stream",
     "text": [
      "apple\n",
      "banana\n",
      "orange\n"
     ]
    }
   ],
   "source": [
    "# Loop Through a List\n",
    "for x in thislist:\n",
    "  print(x)"
   ]
  },
  {
   "cell_type": "code",
   "execution_count": 5,
   "metadata": {
    "colab": {
     "base_uri": "https://localhost:8080/",
     "height": 34
    },
    "colab_type": "code",
    "id": "DOmDOORGFymZ",
    "outputId": "60b53b26-0d33-4672-ccaf-daed66211364"
   },
   "outputs": [
    {
     "name": "stdout",
     "output_type": "stream",
     "text": [
      "Yes, apple is in the fruits list\n"
     ]
    }
   ],
   "source": [
    "# Check if Item Exists\n",
    "anitem = \"apple\"\n",
    "if anitem in thislist:\n",
    "  print(\"Yes,\", anitem,\"is in the fruits list\")\n",
    "else:\n",
    "  print(\"No,\", anitem,\"is not in the fruits list\")  "
   ]
  },
  {
   "cell_type": "code",
   "execution_count": 6,
   "metadata": {
    "colab": {
     "base_uri": "https://localhost:8080/",
     "height": 34
    },
    "colab_type": "code",
    "id": "msmchpb9GOgp",
    "outputId": "7b74261c-d422-4626-ed97-4b438394c76c"
   },
   "outputs": [
    {
     "name": "stdout",
     "output_type": "stream",
     "text": [
      "No, blackberry is not in the fruits list\n"
     ]
    }
   ],
   "source": [
    "\n",
    "anitem = \"blackberry\"\n",
    "if anitem in thislist:\n",
    "  print(\"Yes,\", anitem,\"is in the fruits list\")\n",
    "else:\n",
    "  print(\"No,\", anitem,\"is not in the fruits list\")"
   ]
  },
  {
   "cell_type": "code",
   "execution_count": 7,
   "metadata": {
    "colab": {
     "base_uri": "https://localhost:8080/",
     "height": 34
    },
    "colab_type": "code",
    "id": "W04UhoK8GWv6",
    "outputId": "4374f24a-793c-47d9-be38-d3fac3620f12"
   },
   "outputs": [
    {
     "name": "stdout",
     "output_type": "stream",
     "text": [
      "3\n"
     ]
    }
   ],
   "source": [
    "# List Length\n",
    "print(len(thislist))"
   ]
  },
  {
   "cell_type": "code",
   "execution_count": 8,
   "metadata": {
    "colab": {
     "base_uri": "https://localhost:8080/",
     "height": 34
    },
    "colab_type": "code",
    "id": "zpdawfhAGfEx",
    "outputId": "5a6af367-b407-482f-c553-4758cdb995ab"
   },
   "outputs": [
    {
     "name": "stdout",
     "output_type": "stream",
     "text": [
      "['apple', 'banana', 'orange', 'watermelon']\n"
     ]
    }
   ],
   "source": [
    "# Add Items\n",
    "thislist.append(\"watermelon\")\n",
    "print(thislist)"
   ]
  },
  {
   "cell_type": "code",
   "execution_count": 9,
   "metadata": {
    "colab": {
     "base_uri": "https://localhost:8080/",
     "height": 34
    },
    "colab_type": "code",
    "id": "l5waBkLHGn-R",
    "outputId": "62358958-4979-4a04-978c-21f959bab5f3"
   },
   "outputs": [
    {
     "name": "stdout",
     "output_type": "stream",
     "text": [
      "['apple', 'pear', 'banana', 'orange', 'watermelon']\n"
     ]
    }
   ],
   "source": [
    "# To add an item at the specified index, use the insert() method:\n",
    "thislist.insert(1, \"pear\")\n",
    "print(thislist)"
   ]
  },
  {
   "cell_type": "code",
   "execution_count": 10,
   "metadata": {
    "colab": {
     "base_uri": "https://localhost:8080/",
     "height": 34
    },
    "colab_type": "code",
    "id": "MR8UOlrqPf74",
    "outputId": "52fb92cd-3765-49c5-e99e-85a1a1b86b9e"
   },
   "outputs": [
    {
     "name": "stdout",
     "output_type": "stream",
     "text": [
      "['apple', 'banana', 'cherry', 'watermelon', 'pear', 'orange', 'grape']\n"
     ]
    }
   ],
   "source": [
    "# EXTENDING\n",
    "# The extend() method adds the specified list elements (or any iterable) to \n",
    "# the end of the current list.\n",
    "fruits = ['apple', 'banana', 'cherry']\n",
    "morefruits = ['watermelon', 'pear', 'orange','grape']\n",
    "\n",
    "fruits.extend(morefruits)\n",
    "print(fruits)"
   ]
  },
  {
   "cell_type": "code",
   "execution_count": 11,
   "metadata": {
    "colab": {
     "base_uri": "https://localhost:8080/",
     "height": 34
    },
    "colab_type": "code",
    "id": "p6LVwgw-GrUp",
    "outputId": "8acd5342-b184-47b2-eac2-2026331951d3"
   },
   "outputs": [
    {
     "name": "stdout",
     "output_type": "stream",
     "text": [
      "['apple', 'pear', 'orange', 'watermelon']\n"
     ]
    }
   ],
   "source": [
    "# Remove Item\n",
    "thislist.remove(\"banana\")\n",
    "print(thislist)"
   ]
  },
  {
   "cell_type": "code",
   "execution_count": 12,
   "metadata": {
    "colab": {
     "base_uri": "https://localhost:8080/",
     "height": 34
    },
    "colab_type": "code",
    "id": "t5HHuMYLGzbB",
    "outputId": "10b8476f-15c8-466c-a703-78cbf7e618ac"
   },
   "outputs": [
    {
     "name": "stdout",
     "output_type": "stream",
     "text": [
      "['apple', 'banana']\n"
     ]
    }
   ],
   "source": [
    "#  Remove Item-Method 2\n",
    "# The pop() method removes the specified index, (or the last item if index is not specified):\n",
    "thislist = [\"apple\", \"banana\", \"cherry\"]\n",
    "thislist.pop()\n",
    "print(thislist)"
   ]
  },
  {
   "cell_type": "code",
   "execution_count": 13,
   "metadata": {
    "colab": {},
    "colab_type": "code",
    "id": "74JNbRLxG6zh"
   },
   "outputs": [],
   "source": [
    "# The del keyword can also delete the list completely:\n",
    "del thislist\n",
    "# print(thislist)   # will give an error message"
   ]
  },
  {
   "cell_type": "code",
   "execution_count": 14,
   "metadata": {
    "colab": {
     "base_uri": "https://localhost:8080/",
     "height": 34
    },
    "colab_type": "code",
    "id": "MymN-cwtHHdh",
    "outputId": "cbae9179-f2fa-4cb4-f7ac-d43d9def9806"
   },
   "outputs": [
    {
     "name": "stdout",
     "output_type": "stream",
     "text": [
      "[]\n"
     ]
    }
   ],
   "source": [
    "# The clear() method empties the list:\n",
    "thislist = [\"apple\", \"banana\", \"cherry\"]\n",
    "thislist.clear()\n",
    "print(thislist)"
   ]
  },
  {
   "cell_type": "code",
   "execution_count": 15,
   "metadata": {
    "colab": {
     "base_uri": "https://localhost:8080/",
     "height": 34
    },
    "colab_type": "code",
    "id": "xUUyxYZqHQDR",
    "outputId": "1fdbb4d1-4ce4-41e7-e649-72aa5a717001"
   },
   "outputs": [
    {
     "name": "stdout",
     "output_type": "stream",
     "text": [
      "['apple', 'banana', 'cherry']\n"
     ]
    }
   ],
   "source": [
    "# COPYING A LIST\n",
    "# You cannot copy a list simply by typing list2 = list1, \n",
    "# because: list2 will only be a reference to list1, and changes \n",
    "# made in list1 will automatically also be made in list2.\n",
    "# \n",
    "# There are ways to make a copy, one way is to use the built-in List method copy().\n",
    "thislist = [\"apple\", \"banana\", \"cherry\"]\n",
    "mylist = thislist.copy()\n",
    "print(mylist)"
   ]
  },
  {
   "cell_type": "code",
   "execution_count": 16,
   "metadata": {
    "colab": {
     "base_uri": "https://localhost:8080/",
     "height": 34
    },
    "colab_type": "code",
    "id": "OSWouJHvHdC5",
    "outputId": "d6deedb5-a0dd-4f30-fe49-5fde15e9ef67"
   },
   "outputs": [
    {
     "name": "stdout",
     "output_type": "stream",
     "text": [
      "['apple', 'banana', 'cherry']\n"
     ]
    }
   ],
   "source": [
    "# Another way to make a copy is to use the built-in method list().\n",
    "thislist = [\"apple\", \"banana\", \"cherry\"]\n",
    "mylist = list(thislist)\n",
    "print(mylist)"
   ]
  },
  {
   "cell_type": "code",
   "execution_count": 17,
   "metadata": {
    "colab": {
     "base_uri": "https://localhost:8080/",
     "height": 34
    },
    "colab_type": "code",
    "id": "iJ3kTyccHiNx",
    "outputId": "c7a51130-5b6b-4fd0-d918-0fa2cb45a4a7"
   },
   "outputs": [
    {
     "name": "stdout",
     "output_type": "stream",
     "text": [
      "['apple', 'banana', 'cherry', 'watermelon']\n"
     ]
    }
   ],
   "source": [
    "# sorting (alphebatical order)\n",
    "thislist = [\"watermelon\",\"apple\", \"cherry\", \"banana\"]\n",
    "thislist.sort()\n",
    "print(thislist)"
   ]
  },
  {
   "cell_type": "code",
   "execution_count": 18,
   "metadata": {
    "colab": {
     "base_uri": "https://localhost:8080/",
     "height": 34
    },
    "colab_type": "code",
    "id": "ywd_EBdEHwKY",
    "outputId": "2690d96c-18e4-4893-9fd7-98dbec4fe186"
   },
   "outputs": [
    {
     "name": "stdout",
     "output_type": "stream",
     "text": [
      "['banana', 'cherry', 'apple', 'watermelon']\n"
     ]
    }
   ],
   "source": [
    "# reverse ordering \n",
    "thislist = [\"watermelon\",\"apple\", \"cherry\", \"banana\"]\n",
    "thislist.reverse()\n",
    "print(thislist)"
   ]
  },
  {
   "cell_type": "code",
   "execution_count": 19,
   "metadata": {
    "colab": {
     "base_uri": "https://localhost:8080/",
     "height": 34
    },
    "colab_type": "code",
    "id": "5f1WD4ywIS4Q",
    "outputId": "503676ec-da23-4eb0-eccb-676b04e92c0a"
   },
   "outputs": [
    {
     "data": {
      "text/plain": [
       "2"
      ]
     },
     "execution_count": 19,
     "metadata": {},
     "output_type": "execute_result"
    }
   ],
   "source": [
    "# COUNTING\n",
    "names = [\"Adam\",\"Michael\",\"Susan\",\"Leo\",\"Adam\",\"Marry\",\"Heather\"]\n",
    "names.count(\"Adam\")"
   ]
  },
  {
   "cell_type": "code",
   "execution_count": 20,
   "metadata": {
    "colab": {
     "base_uri": "https://localhost:8080/",
     "height": 34
    },
    "colab_type": "code",
    "id": "t364VaQzOxm9",
    "outputId": "bbfb6e94-da20-4aab-dae3-d8decaf961ea"
   },
   "outputs": [
    {
     "data": {
      "text/plain": [
       "0"
      ]
     },
     "execution_count": 20,
     "metadata": {},
     "output_type": "execute_result"
    }
   ],
   "source": [
    "# Indexing\n",
    "# The index() method finds the first occurrence of the specified value.\n",
    "# The index() method raises an exception if the value is not found.\n",
    "names = [\"Adam\",\"Michael\",\"Susan\",\"Leo\",\"Adam\",\"Marry\",\"Heather\"]\n",
    "names.index(\"Adam\")"
   ]
  },
  {
   "cell_type": "code",
   "execution_count": 21,
   "metadata": {
    "colab": {
     "base_uri": "https://localhost:8080/",
     "height": 34
    },
    "colab_type": "code",
    "id": "3WOLjmqzbe5q",
    "outputId": "b848148c-4144-41d2-bf9b-bcf086a4efeb"
   },
   "outputs": [
    {
     "data": {
      "text/plain": [
       "2"
      ]
     },
     "execution_count": 21,
     "metadata": {},
     "output_type": "execute_result"
    }
   ],
   "source": [
    "names.index(\"Susan\")"
   ]
  },
  {
   "cell_type": "markdown",
   "metadata": {},
   "source": [
    "# Summary\n",
    "\n",
    "append() :\t Adds an element at the end of the list //\n",
    "clear()\t :   Removes all the elements from the list //\n",
    "copy()\t :   Returns a copy of the list //\n",
    "count()\t :   Returns the number of elements with the specified value //\n",
    "extend() :\t Add the elements of a list (or any iterable), to the end of the current list //\n",
    "index()\t :   Returns the index of the first element with the specified value //\n",
    "insert() :   Adds an element at the specified position //\n",
    "pop()\t :   Removes the element at the specified position //\n",
    "remove() :\t Removes the item with the specified value //\n",
    "reverse(): \t Reverses the order of the list //\n",
    "sort()\t :   Sorts the list //\n"
   ]
  },
  {
   "cell_type": "markdown",
   "metadata": {
    "colab": {},
    "colab_type": "code",
    "id": "Mz4scm5Zbh3K"
   },
   "source": [
    "# TUPLEs"
   ]
  },
  {
   "cell_type": "code",
   "execution_count": 22,
   "metadata": {
    "colab": {
     "base_uri": "https://localhost:8080/",
     "height": 34
    },
    "colab_type": "code",
    "id": "1KtRAJApYnMI",
    "outputId": "21f9bd13-8439-4d09-9c09-740d0d969bd0"
   },
   "outputs": [
    {
     "name": "stdout",
     "output_type": "stream",
     "text": [
      "('apple', 'banana', 'cherry')\n"
     ]
    }
   ],
   "source": [
    "# A tuple is a collection which is ordered and unchangeable. \n",
    "# In Python tuples are written with round brackets.\n",
    "thistuple = (\"apple\", \"banana\", \"cherry\")\n",
    "print(thistuple)"
   ]
  },
  {
   "cell_type": "code",
   "execution_count": 23,
   "metadata": {
    "colab": {},
    "colab_type": "code",
    "id": "j-TkbJlVZomP"
   },
   "outputs": [],
   "source": [
    "# Once a tuple is created, you cannot change its values. \n",
    "# Tuples are unchangeable!\n",
    "# You cannot add an item. You cannot extend them.\n",
    "# You cannot remove an item.\n",
    "# You can delete them (using del)"
   ]
  },
  {
   "cell_type": "code",
   "execution_count": 24,
   "metadata": {
    "colab": {
     "base_uri": "https://localhost:8080/",
     "height": 34
    },
    "colab_type": "code",
    "id": "ry4lbvMDZywB",
    "outputId": "66760724-6b21-462f-a5ee-fa1f8cea7d15"
   },
   "outputs": [
    {
     "name": "stdout",
     "output_type": "stream",
     "text": [
      "banana\n"
     ]
    }
   ],
   "source": [
    "# Access Tuple Items (similar to lists)\n",
    "thistuple = (\"apple\", \"banana\", \"cherry\")\n",
    "print(thistuple[1])"
   ]
  },
  {
   "cell_type": "code",
   "execution_count": 25,
   "metadata": {
    "colab": {
     "base_uri": "https://localhost:8080/",
     "height": 68
    },
    "colab_type": "code",
    "id": "RHct0z7yZ21B",
    "outputId": "7eadbedd-d83f-41c5-8106-facd2d878612"
   },
   "outputs": [
    {
     "name": "stdout",
     "output_type": "stream",
     "text": [
      "apple\n",
      "banana\n",
      "cherry\n"
     ]
    }
   ],
   "source": [
    "# Loop Through a Tuple (similar to lists)\n",
    "thistuple = (\"apple\", \"banana\", \"cherry\")\n",
    "for x in thistuple:\n",
    "  print(x)"
   ]
  },
  {
   "cell_type": "code",
   "execution_count": 26,
   "metadata": {
    "colab": {
     "base_uri": "https://localhost:8080/",
     "height": 34
    },
    "colab_type": "code",
    "id": "38WQkntpZ8Qp",
    "outputId": "0a182271-bef4-4d42-d760-ff3c6cbfdc55"
   },
   "outputs": [
    {
     "name": "stdout",
     "output_type": "stream",
     "text": [
      "Yes, apple is in this tuple\n"
     ]
    }
   ],
   "source": [
    "# Check if Item Exists (similar to lists)\n",
    "thistuple = (\"apple\", \"banana\", \"cherry\")\n",
    "anitem = \"apple\"\n",
    "if anitem in thistuple:\n",
    "  print(\"Yes,\", anitem,\"is in this tuple\")\n",
    "else:\n",
    "  print(\"No,\", anitem,\"is not in this tuple\")  "
   ]
  },
  {
   "cell_type": "code",
   "execution_count": 27,
   "metadata": {
    "colab": {
     "base_uri": "https://localhost:8080/",
     "height": 34
    },
    "colab_type": "code",
    "id": "ENL0xLifab6B",
    "outputId": "0171805d-ef80-46e8-d01a-7133554525ff"
   },
   "outputs": [
    {
     "name": "stdout",
     "output_type": "stream",
     "text": [
      "No, grape is not in this tuple\n"
     ]
    }
   ],
   "source": [
    "thistuple = (\"apple\", \"banana\", \"cherry\")\n",
    "anitem = \"grape\"\n",
    "if anitem in thistuple:\n",
    "  print(\"Yes,\", anitem,\"is in this tuple\")\n",
    "else:\n",
    "  print(\"No,\", anitem,\"is not in this tuple\")"
   ]
  },
  {
   "cell_type": "code",
   "execution_count": 28,
   "metadata": {
    "colab": {
     "base_uri": "https://localhost:8080/",
     "height": 34
    },
    "colab_type": "code",
    "id": "5naCQ73Cagfx",
    "outputId": "7dc6db8d-0c8e-48ce-b1e3-196e69dc44c1"
   },
   "outputs": [
    {
     "name": "stdout",
     "output_type": "stream",
     "text": [
      "3\n"
     ]
    }
   ],
   "source": [
    "# tuple length (similar to lists)\n",
    "thistuple = (\"apple\", \"banana\", \"cherry\")\n",
    "print(len(thistuple))"
   ]
  },
  {
   "cell_type": "code",
   "execution_count": 29,
   "metadata": {
    "colab": {
     "base_uri": "https://localhost:8080/",
     "height": 34
    },
    "colab_type": "code",
    "id": "x-72wz2TaolB",
    "outputId": "49526f3c-ec4b-4d56-f8b7-ba944202416c"
   },
   "outputs": [
    {
     "data": {
      "text/plain": [
       "2"
      ]
     },
     "execution_count": 29,
     "metadata": {},
     "output_type": "execute_result"
    }
   ],
   "source": [
    "# Counting\n",
    "names = (\"Adam\",\"Michael\",\"Susan\",\"Leo\",\"Adam\",\"Marry\",\"Heather\")\n",
    "names.count(\"Adam\")"
   ]
  },
  {
   "cell_type": "code",
   "execution_count": 30,
   "metadata": {
    "colab": {
     "base_uri": "https://localhost:8080/",
     "height": 34
    },
    "colab_type": "code",
    "id": "xLLQIkWCbGjZ",
    "outputId": "a1d4b835-f838-43fe-a295-03734aaec87b"
   },
   "outputs": [
    {
     "data": {
      "text/plain": [
       "0"
      ]
     },
     "execution_count": 30,
     "metadata": {},
     "output_type": "execute_result"
    }
   ],
   "source": [
    "# Indexing\n",
    "# The index() method finds the first occurrence of the specified value.\n",
    "# The index() method raises an exception if the value is not found.\n",
    "names = (\"Adam\",\"Michael\",\"Susan\",\"Leo\",\"Adam\",\"Marry\",\"Heather\")\n",
    "names.index(\"Adam\")"
   ]
  },
  {
   "cell_type": "code",
   "execution_count": 31,
   "metadata": {
    "colab": {
     "base_uri": "https://localhost:8080/",
     "height": 34
    },
    "colab_type": "code",
    "id": "7NKhyVovbQgZ",
    "outputId": "6383aa43-98e9-450c-8760-ef0b0d2ee076"
   },
   "outputs": [
    {
     "name": "stdout",
     "output_type": "stream",
     "text": [
      "('apple', 'banana', 'cherry')\n"
     ]
    }
   ],
   "source": [
    "#  COPYING A TUPLE\n",
    "thistuple = (\"apple\", \"banana\", \"cherry\")\n",
    "newtuple = thistuple\n",
    "print(newtuple)"
   ]
  },
  {
   "cell_type": "markdown",
   "metadata": {},
   "source": [
    "#Add/REMOVE Items, EXTEND TUPLE,SORTING and REVERSE ORDERING\n",
    "\n",
    "#### YOU CANNOT DO ANY OF THESE TUPLES ARE UNCHANGEABLE!\n"
   ]
  },
  {
   "attachments": {},
   "cell_type": "markdown",
   "metadata": {},
   "source": [
    "# Summary\n",
    "\n",
    "Tuple is a collection which is ordered and unchangeable. \n",
    "Allows duplicate members.\n",
    "Tuples are written with round brackets. //\n",
    "\n",
    "count()\t:  Returns the number of elements with the specified value //\n",
    "index() :  Returns the index of the first element with the specified value //\n"
   ]
  },
  {
   "cell_type": "markdown",
   "metadata": {
    "colab": {},
    "colab_type": "code",
    "id": "sCYoomaHeA79"
   },
   "source": [
    "# SETs"
   ]
  },
  {
   "cell_type": "code",
   "execution_count": 32,
   "metadata": {
    "colab": {
     "base_uri": "https://localhost:8080/",
     "height": 34
    },
    "colab_type": "code",
    "id": "6skR1GoIfyvi",
    "outputId": "d9b14bb7-8ba3-4254-e482-855208ec5120"
   },
   "outputs": [
    {
     "name": "stdout",
     "output_type": "stream",
     "text": [
      "{'apple', 'cherry', 'banana'}\n"
     ]
    }
   ],
   "source": [
    "# A set is a collection which is unordered and unindexed. \n",
    "# In Python sets are written with curly brackets.\n",
    "thisset = {\"apple\", \"banana\", \"cherry\"}\n",
    "print(thisset)"
   ]
  },
  {
   "cell_type": "code",
   "execution_count": 33,
   "metadata": {
    "colab": {
     "base_uri": "https://localhost:8080/",
     "height": 68
    },
    "colab_type": "code",
    "id": "8dleW7Odf7A-",
    "outputId": "f1d659c2-9746-4df4-d561-5866ca7d834a"
   },
   "outputs": [
    {
     "name": "stdout",
     "output_type": "stream",
     "text": [
      "apple\n",
      "cherry\n",
      "banana\n"
     ]
    }
   ],
   "source": [
    "# Access Items\n",
    "# You cannot access items in a set by referring to an index, \n",
    "# since sets are unordered the items has no index.\n",
    "# \n",
    "# But you can loop through the set items using a for loop\n",
    "thisset = {\"apple\", \"banana\", \"cherry\"}\n",
    "for x in thisset:\n",
    "  print(x)"
   ]
  },
  {
   "cell_type": "code",
   "execution_count": 34,
   "metadata": {
    "colab": {
     "base_uri": "https://localhost:8080/",
     "height": 51
    },
    "colab_type": "code",
    "id": "M3tZuj0UgIto",
    "outputId": "8c2d2445-06c5-4751-a218-2e428da59f6f"
   },
   "outputs": [
    {
     "name": "stdout",
     "output_type": "stream",
     "text": [
      "True\n",
      "False\n"
     ]
    }
   ],
   "source": [
    "# and you can ask if a specified value is present in a set, by using the in keyword.\n",
    "thisset = {\"apple\", \"banana\", \"cherry\"}\n",
    "print(\"banana\" in thisset)\n",
    "print(\"grape\" in thisset)"
   ]
  },
  {
   "cell_type": "code",
   "execution_count": 35,
   "metadata": {
    "colab": {
     "base_uri": "https://localhost:8080/",
     "height": 34
    },
    "colab_type": "code",
    "id": "GknSV5pwgrqB",
    "outputId": "8204eb35-5a6d-4c4d-dcce-9d223718ca59"
   },
   "outputs": [
    {
     "name": "stdout",
     "output_type": "stream",
     "text": [
      "3\n"
     ]
    }
   ],
   "source": [
    "# Get the Length of a Set\n",
    "# To determine how many items a set has, use the len() method.\n",
    "thisset = {\"apple\", \"banana\", \"cherry\"}\n",
    "print(len(thisset))"
   ]
  },
  {
   "cell_type": "code",
   "execution_count": 36,
   "metadata": {
    "colab": {
     "base_uri": "https://localhost:8080/",
     "height": 34
    },
    "colab_type": "code",
    "id": "3WtsUKuRgSoZ",
    "outputId": "6a07751d-4fb8-48c4-9b47-3737100f6130"
   },
   "outputs": [
    {
     "name": "stdout",
     "output_type": "stream",
     "text": [
      "{'apple', 'cherry', 'banana', 'orange'}\n"
     ]
    }
   ],
   "source": [
    "# Change Items\n",
    "# Once a set is created, you cannot change its items, but you can add new items.\n",
    "# \n",
    "# Add Items\n",
    "# Method-1: To add one item to a set use the add() method.\n",
    "thisset = {\"apple\", \"banana\", \"cherry\"}\n",
    "thisset.add(\"orange\")\n",
    "print(thisset)"
   ]
  },
  {
   "cell_type": "code",
   "execution_count": 37,
   "metadata": {
    "colab": {
     "base_uri": "https://localhost:8080/",
     "height": 34
    },
    "colab_type": "code",
    "id": "ehUDQZsBgnHZ",
    "outputId": "3a8fac4d-6370-4db9-c77f-c545191afcf2"
   },
   "outputs": [
    {
     "name": "stdout",
     "output_type": "stream",
     "text": [
      "{'apple', 'grapes', 'cherry', 'banana', 'mango', 'orange'}\n"
     ]
    }
   ],
   "source": [
    "# Add Items\n",
    "# Method-2: To add more than one item to a set use the update() method.\n",
    "thisset = {\"apple\", \"banana\", \"cherry\"}\n",
    "thisset.update([\"orange\", \"mango\", \"grapes\"])\n",
    "print(thisset)"
   ]
  },
  {
   "cell_type": "code",
   "execution_count": 38,
   "metadata": {
    "colab": {
     "base_uri": "https://localhost:8080/",
     "height": 34
    },
    "colab_type": "code",
    "id": "f0alDGmygyJR",
    "outputId": "236804b4-9481-42b2-ee33-95b01b4989e5"
   },
   "outputs": [
    {
     "name": "stdout",
     "output_type": "stream",
     "text": [
      "{'apple', 'cherry'}\n"
     ]
    }
   ],
   "source": [
    "# Remove Item\n",
    "# To remove an item in a set, use the remove(), or the discard() method.\n",
    "thisset = {\"apple\", \"banana\", \"cherry\"}\n",
    "thisset.remove(\"banana\")\n",
    "print(thisset)"
   ]
  },
  {
   "cell_type": "code",
   "execution_count": 39,
   "metadata": {
    "colab": {
     "base_uri": "https://localhost:8080/",
     "height": 34
    },
    "colab_type": "code",
    "id": "AOUsh262g4MZ",
    "outputId": "3be65db4-b853-43b4-b2d6-a4d4a08a12ad"
   },
   "outputs": [
    {
     "name": "stdout",
     "output_type": "stream",
     "text": [
      "{'apple', 'cherry'}\n"
     ]
    }
   ],
   "source": [
    "thisset = {\"apple\", \"banana\", \"cherry\"}\n",
    "thisset.discard(\"banana\")\n",
    "print(thisset)"
   ]
  },
  {
   "cell_type": "code",
   "execution_count": 40,
   "metadata": {
    "colab": {},
    "colab_type": "code",
    "id": "jvxWIK4sg6Tp"
   },
   "outputs": [],
   "source": [
    "# What is the difference between remove and discard\n",
    "#  If the item to remove does not exist, \n",
    "# #  remove() will raise an error but\n",
    "# # discard() will NOT raise an error."
   ]
  },
  {
   "cell_type": "code",
   "execution_count": 41,
   "metadata": {
    "colab": {
     "base_uri": "https://localhost:8080/",
     "height": 51
    },
    "colab_type": "code",
    "id": "Yvf7pqAehKp5",
    "outputId": "5485efcf-33b9-4e88-fdf8-69455aad2853"
   },
   "outputs": [
    {
     "name": "stdout",
     "output_type": "stream",
     "text": [
      "apple\n",
      "{'cherry', 'banana'}\n"
     ]
    }
   ],
   "source": [
    "# Remove an item by using the pop() method:\n",
    "thisset = {\"apple\", \"banana\", \"cherry\"}\n",
    "x = thisset.pop()\n",
    "print(x)\n",
    "print(thisset)\n"
   ]
  },
  {
   "cell_type": "code",
   "execution_count": 42,
   "metadata": {
    "colab": {},
    "colab_type": "code",
    "id": "4dRmeDChhQ65"
   },
   "outputs": [],
   "source": [
    "# NOTE THAT: Sets are unordered, so when using the \n",
    "# pop() method, you will not know which item that gets removed."
   ]
  },
  {
   "cell_type": "code",
   "execution_count": 43,
   "metadata": {
    "colab": {
     "base_uri": "https://localhost:8080/",
     "height": 34
    },
    "colab_type": "code",
    "id": "NHfnhMrvhct4",
    "outputId": "204334c6-f477-4969-a504-5093e3786e75"
   },
   "outputs": [
    {
     "name": "stdout",
     "output_type": "stream",
     "text": [
      "set()\n"
     ]
    }
   ],
   "source": [
    "# The clear() method empties the set:\n",
    "thisset = {\"apple\", \"banana\", \"cherry\"}\n",
    "thisset.clear()\n",
    "print(thisset)"
   ]
  },
  {
   "cell_type": "code",
   "execution_count": 44,
   "metadata": {
    "colab": {},
    "colab_type": "code",
    "id": "_Rd1Yc8GhgBJ"
   },
   "outputs": [],
   "source": [
    "# the del keyword will delete the set completely:\n",
    "thisset = {\"apple\", \"banana\", \"cherry\"}\n",
    "del thisset"
   ]
  },
  {
   "cell_type": "code",
   "execution_count": 45,
   "metadata": {
    "colab": {
     "base_uri": "https://localhost:8080/",
     "height": 34
    },
    "colab_type": "code",
    "id": "aSfg_QRAhjmA",
    "outputId": "2f19d756-fa32-457d-8c6c-cb9df6eedfb6"
   },
   "outputs": [
    {
     "name": "stdout",
     "output_type": "stream",
     "text": [
      "{'apple', 'cherry', 'banana'}\n"
     ]
    }
   ],
   "source": [
    "# It is also possible to use the set() constructor to make a set.\n",
    "thisset = set((\"apple\", \"banana\", \"cherry\")) \n",
    "# note the double round-brackets\n",
    "print(thisset)"
   ]
  },
  {
   "cell_type": "code",
   "execution_count": 46,
   "metadata": {
    "colab": {
     "base_uri": "https://localhost:8080/",
     "height": 34
    },
    "colab_type": "code",
    "id": "VF836liChqXA",
    "outputId": "e3810d7b-0628-4e33-eb46-a0c42184cb60"
   },
   "outputs": [
    {
     "name": "stdout",
     "output_type": "stream",
     "text": [
      "{'apple', 'cherry', 'banana'}\n"
     ]
    }
   ],
   "source": [
    "#  Copying a set\n",
    "fruits = {\"apple\", \"banana\", \"cherry\"}\n",
    "x = fruits.copy()\n",
    "print(x)"
   ]
  },
  {
   "cell_type": "code",
   "execution_count": 47,
   "metadata": {
    "colab": {
     "base_uri": "https://localhost:8080/",
     "height": 34
    },
    "colab_type": "code",
    "id": "J7bASc8Oh4wg",
    "outputId": "4b648dd5-b726-4995-9d7c-b63b9a26813e"
   },
   "outputs": [
    {
     "name": "stdout",
     "output_type": "stream",
     "text": [
      "{'cherry', 'banana'}\n"
     ]
    }
   ],
   "source": [
    "# Finding the differences between two sets\n",
    "# x.difference(y) method return a set that contains the \n",
    "# items that only exist in set x, and not in set y:\n",
    "x = {\"apple\", \"banana\", \"cherry\"}\n",
    "y = {\"google\", \"microsoft\", \"apple\"}\n",
    "z = x.difference(y) \n",
    "print(z)"
   ]
  },
  {
   "cell_type": "code",
   "execution_count": 48,
   "metadata": {
    "colab": {
     "base_uri": "https://localhost:8080/",
     "height": 34
    },
    "colab_type": "code",
    "id": "1r3cyGG8iOOR",
    "outputId": "9691b167-f03e-4dd1-f178-6e4e16c45842"
   },
   "outputs": [
    {
     "name": "stdout",
     "output_type": "stream",
     "text": [
      "{'cherry', 'banana'}\n"
     ]
    }
   ],
   "source": [
    "# Removing the items that exist in both sets\n",
    "x = {\"apple\", \"banana\", \"cherry\"}\n",
    "y = {\"google\", \"microsoft\", \"apple\"}\n",
    "x.difference_update(y) \n",
    "print(x)"
   ]
  },
  {
   "cell_type": "code",
   "execution_count": 49,
   "metadata": {
    "colab": {},
    "colab_type": "code",
    "id": "5LxeaQ6EimTh"
   },
   "outputs": [],
   "source": [
    "# note that the difference() method returns a new set, without the unwanted items,\n",
    "# difference_update() method removes the unwanted items from the original set."
   ]
  },
  {
   "cell_type": "code",
   "execution_count": 50,
   "metadata": {
    "colab": {
     "base_uri": "https://localhost:8080/",
     "height": 34
    },
    "colab_type": "code",
    "id": "_glnrC9vivUx",
    "outputId": "371ab7e5-7441-42f4-f844-6f77820c534e"
   },
   "outputs": [
    {
     "name": "stdout",
     "output_type": "stream",
     "text": [
      "{'apple'}\n"
     ]
    }
   ],
   "source": [
    "# Finding the items that exist in two sets\n",
    "x = {\"apple\", \"banana\", \"cherry\"}\n",
    "y = {\"google\", \"microsoft\", \"apple\"}\n",
    "z = x.intersection(y) \n",
    "print(z)"
   ]
  },
  {
   "cell_type": "code",
   "execution_count": 51,
   "metadata": {
    "colab": {
     "base_uri": "https://localhost:8080/",
     "height": 34
    },
    "colab_type": "code",
    "id": "XNEOj55Li6Fh",
    "outputId": "b5bae4bd-1fbd-46f6-8a00-beec11dfe0be"
   },
   "outputs": [
    {
     "name": "stdout",
     "output_type": "stream",
     "text": [
      "{'apple'}\n"
     ]
    }
   ],
   "source": [
    "# x.intersection_update(y) removes the items that is not present in both x, and set y:\n",
    "x = {\"apple\", \"banana\", \"cherry\"}\n",
    "y = {\"google\", \"microsoft\", \"apple\"}\n",
    "x.intersection_update(y) \n",
    "print(x)"
   ]
  },
  {
   "cell_type": "code",
   "execution_count": 52,
   "metadata": {
    "colab": {},
    "colab_type": "code",
    "id": "o-99-YEUjEzB"
   },
   "outputs": [],
   "source": [
    "# again, the intersection() method returns a new set, without the unwanted items\n",
    "# intersection_update() method removes the unwanted items from the original set."
   ]
  },
  {
   "cell_type": "code",
   "execution_count": 53,
   "metadata": {
    "colab": {
     "base_uri": "https://localhost:8080/",
     "height": 34
    },
    "colab_type": "code",
    "id": "KiYSXyj5jN1w",
    "outputId": "c4603d1d-af3b-4a34-d28c-de3a7614c0a2"
   },
   "outputs": [
    {
     "name": "stdout",
     "output_type": "stream",
     "text": [
      "{'microsoft', 'apple', 'cherry', 'banana', 'google'}\n"
     ]
    }
   ],
   "source": [
    "# Merging sets\n",
    "# union() return a set that contains all items from both sets, duplicates are excluded:\n",
    "x = {\"apple\", \"banana\", \"cherry\"}\n",
    "y = {\"google\", \"microsoft\", \"apple\"}\n",
    "z = x.union(y) \n",
    "print(z)"
   ]
  },
  {
   "cell_type": "code",
   "execution_count": 54,
   "metadata": {
    "colab": {
     "base_uri": "https://localhost:8080/",
     "height": 34
    },
    "colab_type": "code",
    "id": "RJVW3fccjcVw",
    "outputId": "aee9b3dc-4253-4bb4-c9f3-7187a5c52ef1"
   },
   "outputs": [
    {
     "name": "stdout",
     "output_type": "stream",
     "text": [
      "True\n"
     ]
    }
   ],
   "source": [
    "# Determining whether two sets are completely different\n",
    "# isdisjoint() return True if no items in set x is present in set y:\n",
    "x = {\"apple\", \"banana\", \"cherry\"}\n",
    "y = {\"google\", \"microsoft\", \"facebook\"}\n",
    "z = x.isdisjoint(y) \n",
    "print(z)"
   ]
  },
  {
   "cell_type": "code",
   "execution_count": 55,
   "metadata": {
    "colab": {
     "base_uri": "https://localhost:8080/",
     "height": 34
    },
    "colab_type": "code",
    "id": "2qwQTxBrjxf5",
    "outputId": "43e0362b-ce34-4771-9906-6caad4d8edc1"
   },
   "outputs": [
    {
     "name": "stdout",
     "output_type": "stream",
     "text": [
      "False\n"
     ]
    }
   ],
   "source": [
    "x = {\"apple\", \"banana\", \"cherry\"}\n",
    "y = {\"google\", \"microsoft\", \"apple\"}\n",
    "z = x.isdisjoint(y) \n",
    "print(z)"
   ]
  },
  {
   "cell_type": "code",
   "execution_count": 56,
   "metadata": {
    "colab": {
     "base_uri": "https://localhost:8080/",
     "height": 34
    },
    "colab_type": "code",
    "id": "3AFnjpZkj2Dh",
    "outputId": "182d67fa-6f4b-4d4b-c133-73e36a273a1e"
   },
   "outputs": [
    {
     "name": "stdout",
     "output_type": "stream",
     "text": [
      "True\n"
     ]
    }
   ],
   "source": [
    "# Determining whether x is a subset of y\n",
    "# issubset() teturns True if all items set x are present in set y:\n",
    "x = {\"a\", \"b\", \"c\"}\n",
    "y = {\"f\", \"e\", \"d\", \"c\", \"b\", \"a\"}\n",
    "z = x.issubset(y) \n",
    "print(z)"
   ]
  },
  {
   "cell_type": "code",
   "execution_count": 57,
   "metadata": {
    "colab": {
     "base_uri": "https://localhost:8080/",
     "height": 34
    },
    "colab_type": "code",
    "id": "g9Avo-qykBqR",
    "outputId": "7d67354d-02d2-4e10-ad3f-f07b0d6b91a7"
   },
   "outputs": [
    {
     "name": "stdout",
     "output_type": "stream",
     "text": [
      "True\n"
     ]
    }
   ],
   "source": [
    "# issuperset() returns True if all items set y are present in set x:\n",
    "x = {\"f\", \"e\", \"d\", \"c\", \"b\", \"a\"}\n",
    "y = {\"a\", \"b\", \"c\"}\n",
    "z = x.issuperset(y) \n",
    "print(z)"
   ]
  },
  {
   "cell_type": "markdown",
   "metadata": {
    "colab": {},
    "colab_type": "code",
    "id": "H7f1wWXAkMPB"
   },
   "source": [
    "# DICTIONARIES"
   ]
  },
  {
   "cell_type": "code",
   "execution_count": 58,
   "metadata": {
    "colab": {},
    "colab_type": "code",
    "id": "X1pSB2JcpiJO"
   },
   "outputs": [],
   "source": [
    "# A dictionary is a collection which is unordered, changeable and indexed. \n",
    "# In Python dictionaries are written with curly brackets, and they have keys and values.\n",
    "# \n",
    "# There are multiple ways of creating dictionaries\n",
    "# Method-1\n",
    "Days_Eng_Ita = {'Monday':'Lunedi',\n",
    "             'Tuesday':'Martedi',\n",
    "             'Wednesday':'Mercoledi',\n",
    "             'Thursday':'Geovedi',\n",
    "             'Friday':'Venerdi',\n",
    "             'Saturday':'Saboto',\n",
    "             'Sunday':'Domenica'\n",
    "            }"
   ]
  },
  {
   "cell_type": "code",
   "execution_count": 59,
   "metadata": {
    "colab": {},
    "colab_type": "code",
    "id": "hXeIJrUoE-r-"
   },
   "outputs": [],
   "source": [
    "# Method-2\n",
    "Days_Eng_Ita = dict([\n",
    "    ('Monday','Lunedi'),\n",
    "    ('Tuesday','Martedi'),\n",
    "    ('Wednesday','Mercoledi'),\n",
    "    ('Thursday','Geovedi'),\n",
    "    ('Friday','Venerdi'),\n",
    "    ('Saturday','Saboto'),\n",
    "    ('Sunday','Domenica')\n",
    "     ])"
   ]
  },
  {
   "cell_type": "code",
   "execution_count": 60,
   "metadata": {
    "colab": {},
    "colab_type": "code",
    "id": "WMhTeS1FFr0z"
   },
   "outputs": [],
   "source": [
    "# Method-3\n",
    "Days_Eng_Ita = dict(\n",
    "    Monday='Lunedi',\n",
    "    Tuesday='Martedi',\n",
    "    Wednesday='Mercoledi',\n",
    "    Thursday='Geovedi',\n",
    "    Friday='Venerdi',\n",
    "    Saturday='Saboto',\n",
    "    Sunday='Domenica'\n",
    "    )"
   ]
  },
  {
   "cell_type": "code",
   "execution_count": 61,
   "metadata": {
    "colab": {
     "base_uri": "https://localhost:8080/",
     "height": 34
    },
    "colab_type": "code",
    "id": "fseabgeCGAb_",
    "outputId": "5e6b6e65-9b4b-4327-cad4-bf1e1806f4e6"
   },
   "outputs": [
    {
     "data": {
      "text/plain": [
       "dict"
      ]
     },
     "execution_count": 61,
     "metadata": {},
     "output_type": "execute_result"
    }
   ],
   "source": [
    "type(Days_Eng_Ita)"
   ]
  },
  {
   "cell_type": "code",
   "execution_count": 62,
   "metadata": {
    "colab": {
     "base_uri": "https://localhost:8080/",
     "height": 136
    },
    "colab_type": "code",
    "id": "5_PUVA9PGE0M",
    "outputId": "3fe129d9-0ef4-40e3-80ee-f7c070a8c55e"
   },
   "outputs": [
    {
     "data": {
      "text/plain": [
       "{'Monday': 'Lunedi',\n",
       " 'Tuesday': 'Martedi',\n",
       " 'Wednesday': 'Mercoledi',\n",
       " 'Thursday': 'Geovedi',\n",
       " 'Friday': 'Venerdi',\n",
       " 'Saturday': 'Saboto',\n",
       " 'Sunday': 'Domenica'}"
      ]
     },
     "execution_count": 62,
     "metadata": {},
     "output_type": "execute_result"
    }
   ],
   "source": [
    "Days_Eng_Ita"
   ]
  },
  {
   "cell_type": "code",
   "execution_count": 63,
   "metadata": {
    "colab": {
     "base_uri": "https://localhost:8080/",
     "height": 34
    },
    "colab_type": "code",
    "id": "g0idKCCTGGy7",
    "outputId": "c6977f86-db1e-45af-e20a-8513882a699a"
   },
   "outputs": [
    {
     "data": {
      "text/plain": [
       "'Lunedi'"
      ]
     },
     "execution_count": 63,
     "metadata": {},
     "output_type": "execute_result"
    }
   ],
   "source": [
    "# Accessing Items\n",
    "# You can access the items of a dictionary by referring to its key name, inside square brackets:\n",
    "Days_Eng_Ita['Monday']"
   ]
  },
  {
   "cell_type": "code",
   "execution_count": 64,
   "metadata": {
    "colab": {
     "base_uri": "https://localhost:8080/",
     "height": 34
    },
    "colab_type": "code",
    "id": "3BswhJ_lPY_o",
    "outputId": "92c44f59-0547-490d-b943-0f3d52c884ed"
   },
   "outputs": [
    {
     "data": {
      "text/plain": [
       "'Lunedi'"
      ]
     },
     "execution_count": 64,
     "metadata": {},
     "output_type": "execute_result"
    }
   ],
   "source": [
    "# There is also a method called get() that will give you the same result:\n",
    "Days_Eng_Ita.get('Monday')"
   ]
  },
  {
   "cell_type": "code",
   "execution_count": 65,
   "metadata": {
    "colab": {},
    "colab_type": "code",
    "id": "liOMaMlpGJjP"
   },
   "outputs": [],
   "source": [
    "#  CHANGING VALUES\n",
    "# You can change the value of a specific item by referring to its key name.\n",
    "#\n",
    "# There is a typo in one of the days: Thursday. It should be Giovedi\n",
    "# Let's update our library\n",
    "Days_Eng_Ita['Thursday'] = 'Giovedi'"
   ]
  },
  {
   "cell_type": "code",
   "execution_count": 66,
   "metadata": {
    "colab": {
     "base_uri": "https://localhost:8080/",
     "height": 136
    },
    "colab_type": "code",
    "id": "zlAi0nv7Go3r",
    "outputId": "5ae3ff03-8723-4523-9c21-27b9585b8401"
   },
   "outputs": [
    {
     "data": {
      "text/plain": [
       "{'Monday': 'Lunedi',\n",
       " 'Tuesday': 'Martedi',\n",
       " 'Wednesday': 'Mercoledi',\n",
       " 'Thursday': 'Giovedi',\n",
       " 'Friday': 'Venerdi',\n",
       " 'Saturday': 'Saboto',\n",
       " 'Sunday': 'Domenica'}"
      ]
     },
     "execution_count": 66,
     "metadata": {},
     "output_type": "execute_result"
    }
   ],
   "source": [
    "Days_Eng_Ita"
   ]
  },
  {
   "cell_type": "code",
   "execution_count": 67,
   "metadata": {
    "colab": {},
    "colab_type": "code",
    "id": "DFF-qCuKGqpl"
   },
   "outputs": [],
   "source": [
    "# We can also build a dictionary incrementally\n",
    "person = {}\n",
    "person['fname'] = 'Jon'\n",
    "person['lname'] = 'Snow'\n",
    "person['age'] = 27\n",
    "person['spouse'] = 'Ygritte'\n",
    "person['relatives'] = ['Ned', 'Robb', 'Sansa','Arya']\n",
    "person['pets'] = {'dog': 'Ghost', 'dragon': 'Drogon'}"
   ]
  },
  {
   "cell_type": "code",
   "execution_count": 68,
   "metadata": {
    "colab": {
     "base_uri": "https://localhost:8080/",
     "height": 119
    },
    "colab_type": "code",
    "id": "gvoKV-raNlEk",
    "outputId": "d1a523f2-aa10-4c3a-cb59-ad53db21d1c2"
   },
   "outputs": [
    {
     "data": {
      "text/plain": [
       "{'fname': 'Jon',\n",
       " 'lname': 'Snow',\n",
       " 'age': 27,\n",
       " 'spouse': 'Ygritte',\n",
       " 'relatives': ['Ned', 'Robb', 'Sansa', 'Arya'],\n",
       " 'pets': {'dog': 'Ghost', 'dragon': 'Drogon'}}"
      ]
     },
     "execution_count": 68,
     "metadata": {},
     "output_type": "execute_result"
    }
   ],
   "source": [
    "person"
   ]
  },
  {
   "cell_type": "code",
   "execution_count": 69,
   "metadata": {
    "colab": {
     "base_uri": "https://localhost:8080/",
     "height": 34
    },
    "colab_type": "code",
    "id": "67mrXY3lNnk4",
    "outputId": "7e561a6a-0f4e-493f-eb31-fa3f599a916a"
   },
   "outputs": [
    {
     "data": {
      "text/plain": [
       "'Jon'"
      ]
     },
     "execution_count": 69,
     "metadata": {},
     "output_type": "execute_result"
    }
   ],
   "source": [
    "person['fname']\n"
   ]
  },
  {
   "cell_type": "code",
   "execution_count": 70,
   "metadata": {
    "colab": {
     "base_uri": "https://localhost:8080/",
     "height": 34
    },
    "colab_type": "code",
    "id": "0OrFuPk-Nrx1",
    "outputId": "eddb8914-096f-4b52-aa08-586db5047e1b"
   },
   "outputs": [
    {
     "data": {
      "text/plain": [
       "['Ned', 'Robb', 'Sansa', 'Arya']"
      ]
     },
     "execution_count": 70,
     "metadata": {},
     "output_type": "execute_result"
    }
   ],
   "source": [
    "person['relatives']"
   ]
  },
  {
   "cell_type": "code",
   "execution_count": 71,
   "metadata": {
    "colab": {
     "base_uri": "https://localhost:8080/",
     "height": 34
    },
    "colab_type": "code",
    "id": "x6NG2x8JNxS-",
    "outputId": "14b04215-c7d1-4116-ce8c-1dd811d1ee4d"
   },
   "outputs": [
    {
     "data": {
      "text/plain": [
       "'Ned'"
      ]
     },
     "execution_count": 71,
     "metadata": {},
     "output_type": "execute_result"
    }
   ],
   "source": [
    "# Retrieving the values in the sublist or subdictionary requires an additional index or key:\n",
    "person['relatives'][0]"
   ]
  },
  {
   "cell_type": "code",
   "execution_count": 72,
   "metadata": {
    "colab": {
     "base_uri": "https://localhost:8080/",
     "height": 34
    },
    "colab_type": "code",
    "id": "3TCe1swRNyIw",
    "outputId": "3a8e688c-3e34-4686-df23-ed6d1b5586f9"
   },
   "outputs": [
    {
     "data": {
      "text/plain": [
       "'Arya'"
      ]
     },
     "execution_count": 72,
     "metadata": {},
     "output_type": "execute_result"
    }
   ],
   "source": [
    "person['relatives'][-1]"
   ]
  },
  {
   "cell_type": "code",
   "execution_count": 73,
   "metadata": {
    "colab": {
     "base_uri": "https://localhost:8080/",
     "height": 34
    },
    "colab_type": "code",
    "id": "eeE6HLApNy1D",
    "outputId": "c794d224-7bba-4007-a8ed-0a6af2877c1f"
   },
   "outputs": [
    {
     "data": {
      "text/plain": [
       "'Ghost'"
      ]
     },
     "execution_count": 73,
     "metadata": {},
     "output_type": "execute_result"
    }
   ],
   "source": [
    "person['pets']['dog']"
   ]
  },
  {
   "cell_type": "code",
   "execution_count": 74,
   "metadata": {
    "colab": {
     "base_uri": "https://localhost:8080/",
     "height": 119
    },
    "colab_type": "code",
    "id": "IWrQrBvsN2fu",
    "outputId": "10e96627-1e6f-460b-e945-f1afecc94d61"
   },
   "outputs": [
    {
     "name": "stdout",
     "output_type": "stream",
     "text": [
      "fname\n",
      "lname\n",
      "age\n",
      "spouse\n",
      "relatives\n",
      "pets\n"
     ]
    }
   ],
   "source": [
    "# Loop Through a Dictionary\n",
    "# Print all key names in the dictionary, one by one:\n",
    "for x in person:\n",
    "  print(x)"
   ]
  },
  {
   "cell_type": "code",
   "execution_count": 75,
   "metadata": {
    "colab": {
     "base_uri": "https://localhost:8080/",
     "height": 119
    },
    "colab_type": "code",
    "id": "jT__HzzQPyzP",
    "outputId": "16bfd906-f89f-477e-984e-b0e84ea918e8"
   },
   "outputs": [
    {
     "name": "stdout",
     "output_type": "stream",
     "text": [
      "Jon\n",
      "Snow\n",
      "27\n",
      "Ygritte\n",
      "['Ned', 'Robb', 'Sansa', 'Arya']\n",
      "{'dog': 'Ghost', 'dragon': 'Drogon'}\n"
     ]
    }
   ],
   "source": [
    "# Print all values in the dictionary, one by one:\n",
    "for x in person:\n",
    "  print(person[x])"
   ]
  },
  {
   "cell_type": "code",
   "execution_count": 76,
   "metadata": {
    "colab": {
     "base_uri": "https://localhost:8080/",
     "height": 119
    },
    "colab_type": "code",
    "id": "lqE1TV9yP4Vy",
    "outputId": "e8f64302-eae5-41f1-d06d-8fa4bdb8b120"
   },
   "outputs": [
    {
     "name": "stdout",
     "output_type": "stream",
     "text": [
      "Jon\n",
      "Snow\n",
      "27\n",
      "Ygritte\n",
      "['Ned', 'Robb', 'Sansa', 'Arya']\n",
      "{'dog': 'Ghost', 'dragon': 'Drogon'}\n"
     ]
    }
   ],
   "source": [
    "# You can also use the values() function to return values of a dictionary:\n",
    "for x in person.values():\n",
    "  print(x)"
   ]
  },
  {
   "cell_type": "code",
   "execution_count": 77,
   "metadata": {
    "colab": {
     "base_uri": "https://localhost:8080/",
     "height": 119
    },
    "colab_type": "code",
    "id": "S4_KkzB8P_ho",
    "outputId": "90943703-521b-4455-e8fc-aa7306e2cac9"
   },
   "outputs": [
    {
     "name": "stdout",
     "output_type": "stream",
     "text": [
      "fname Jon\n",
      "lname Snow\n",
      "age 27\n",
      "spouse Ygritte\n",
      "relatives ['Ned', 'Robb', 'Sansa', 'Arya']\n",
      "pets {'dog': 'Ghost', 'dragon': 'Drogon'}\n"
     ]
    }
   ],
   "source": [
    "# Loop through both keys and values, by using the items() function:\n",
    "for x, y in person.items():\n",
    "  print(x, y)"
   ]
  },
  {
   "cell_type": "code",
   "execution_count": 78,
   "metadata": {
    "colab": {
     "base_uri": "https://localhost:8080/",
     "height": 34
    },
    "colab_type": "code",
    "id": "L18F0xhPQF5G",
    "outputId": "b42c3c9f-93e1-4dc8-f9e5-3c09dfacb83c"
   },
   "outputs": [
    {
     "name": "stdout",
     "output_type": "stream",
     "text": [
      "{'brand': 'Ford', 'model': 'Mustang', 'year': 1964}\n"
     ]
    }
   ],
   "source": [
    "# Let's change our example dictionary into a more easier one\n",
    "thisdict =\t{\n",
    "  \"brand\": \"Ford\",\n",
    "  \"model\": \"Mustang\",\n",
    "  \"year\": 1964\n",
    "}\n",
    "print(thisdict)"
   ]
  },
  {
   "cell_type": "code",
   "execution_count": 79,
   "metadata": {
    "colab": {
     "base_uri": "https://localhost:8080/",
     "height": 34
    },
    "colab_type": "code",
    "id": "aRnWs-YzQXFf",
    "outputId": "f430eaac-3737-4c6d-bdc9-b941a83562d7"
   },
   "outputs": [
    {
     "name": "stdout",
     "output_type": "stream",
     "text": [
      "Yes, model is one of the keys in this dictionary\n"
     ]
    }
   ],
   "source": [
    "# Check if Key Exists\n",
    "key = \"model\"\n",
    "thisdict =\t{\n",
    "  \"brand\": \"Ford\",\n",
    "  \"model\": \"Mustang\",\n",
    "  \"year\": 1964\n",
    "}\n",
    "if key in thisdict:\n",
    "  print(\"Yes,\", key, \"is one of the keys in this dictionary\")\n",
    "else:\n",
    "  print(\"No,\", key, \"is not one of the keys in this dictionary\")"
   ]
  },
  {
   "cell_type": "code",
   "execution_count": 80,
   "metadata": {
    "colab": {
     "base_uri": "https://localhost:8080/",
     "height": 34
    },
    "colab_type": "code",
    "id": "y3dYnWj1QuPU",
    "outputId": "208bb049-d28c-43f3-be84-aa2ce53453d8"
   },
   "outputs": [
    {
     "name": "stdout",
     "output_type": "stream",
     "text": [
      "No, weight is not one of the keys in this dictionary\n"
     ]
    }
   ],
   "source": [
    "key = \"weight\"\n",
    "if key in thisdict:\n",
    "  print(\"Yes,\", key, \"is one of the keys in this dictionary\")\n",
    "else:\n",
    "  print(\"No,\", key, \"is not one of the keys in this dictionary\")"
   ]
  },
  {
   "cell_type": "code",
   "execution_count": 81,
   "metadata": {
    "colab": {
     "base_uri": "https://localhost:8080/",
     "height": 34
    },
    "colab_type": "code",
    "id": "LPQ633u_QzTS",
    "outputId": "d9b1c6d5-b088-42ba-97b8-a0c41ca89549"
   },
   "outputs": [
    {
     "name": "stdout",
     "output_type": "stream",
     "text": [
      "3\n"
     ]
    }
   ],
   "source": [
    "# Dictionary Length (as usual)\n",
    "# To determine how many items (key-value pairs) a dictionary has, \n",
    "# use the len() method.\n",
    "print(len(thisdict))"
   ]
  },
  {
   "cell_type": "code",
   "execution_count": 82,
   "metadata": {
    "colab": {
     "base_uri": "https://localhost:8080/",
     "height": 34
    },
    "colab_type": "code",
    "id": "VyO4N-s_Q4yr",
    "outputId": "04e4238f-d6a3-469e-ee93-b5ab2cad5557"
   },
   "outputs": [
    {
     "name": "stdout",
     "output_type": "stream",
     "text": [
      "{'brand': 'Ford', 'model': 'Mustang', 'year': 1964, 'color': 'red'}\n"
     ]
    }
   ],
   "source": [
    "# Adding Items\n",
    "# Adding an item to the dictionary is done by using a new index key\n",
    "# and assigning a value to it:\n",
    "thisdict =\t{\n",
    "  \"brand\": \"Ford\",\n",
    "  \"model\": \"Mustang\",\n",
    "  \"year\": 1964\n",
    "}\n",
    "thisdict[\"color\"] = \"red\"\n",
    "print(thisdict)"
   ]
  },
  {
   "cell_type": "code",
   "execution_count": 83,
   "metadata": {
    "colab": {
     "base_uri": "https://localhost:8080/",
     "height": 34
    },
    "colab_type": "code",
    "id": "kHqPiMBiTqE3",
    "outputId": "46669129-1711-411d-8b04-beb9336fc78d"
   },
   "outputs": [
    {
     "name": "stdout",
     "output_type": "stream",
     "text": [
      "{'brand': 'Ford', 'model': 'Mustang', 'year': 2019, 'color': 'White'}\n"
     ]
    }
   ],
   "source": [
    "# We can also use update()\n",
    "car = {\n",
    "  \"brand\": \"Ford\",\n",
    "  \"model\": \"Mustang\",\n",
    "  \"year\": 2019\n",
    "}\n",
    "car.update({\"color\": \"White\"})\n",
    "print(car)"
   ]
  },
  {
   "cell_type": "code",
   "execution_count": 84,
   "metadata": {
    "colab": {
     "base_uri": "https://localhost:8080/",
     "height": 34
    },
    "colab_type": "code",
    "id": "FxyZPZOfRG9L",
    "outputId": "42807b28-b3db-456d-a43b-ec2eba419cc1"
   },
   "outputs": [
    {
     "name": "stdout",
     "output_type": "stream",
     "text": [
      "{'brand': 'Ford', 'year': 1964}\n"
     ]
    }
   ],
   "source": [
    "# Removing Items\n",
    "# There are several methods to remove items from a dictionary.\n",
    "# Method-1: The pop() method removes the item with the specified key name\n",
    "thisdict =\t{\n",
    "  \"brand\": \"Ford\",\n",
    "  \"model\": \"Mustang\",\n",
    "  \"year\": 1964\n",
    "}\n",
    "thisdict.pop(\"model\")\n",
    "print(thisdict)"
   ]
  },
  {
   "cell_type": "code",
   "execution_count": 85,
   "metadata": {
    "colab": {
     "base_uri": "https://localhost:8080/",
     "height": 34
    },
    "colab_type": "code",
    "id": "srjukYmcROHy",
    "outputId": "3ecbaca0-cb1e-4a6e-c0ae-92ebb93e8208"
   },
   "outputs": [
    {
     "name": "stdout",
     "output_type": "stream",
     "text": [
      "{'brand': 'Ford', 'model': 'Mustang'}\n"
     ]
    }
   ],
   "source": [
    "# The popitem() method removes a random item!\n",
    "thisdict =\t{\n",
    "  \"brand\": \"Ford\",\n",
    "  \"model\": \"Mustang\",\n",
    "  \"year\": 1964\n",
    "}\n",
    "thisdict.popitem()\n",
    "print(thisdict)"
   ]
  },
  {
   "cell_type": "code",
   "execution_count": 86,
   "metadata": {
    "colab": {},
    "colab_type": "code",
    "id": "4AqaS_CsRb9B"
   },
   "outputs": [],
   "source": [
    "# Removing an item with a specific key\n",
    "# The del keyword removes the item with the specified key name:"
   ]
  },
  {
   "cell_type": "code",
   "execution_count": 87,
   "metadata": {
    "colab": {
     "base_uri": "https://localhost:8080/",
     "height": 34
    },
    "colab_type": "code",
    "id": "O0pH5NuyRmNZ",
    "outputId": "17f95f7d-229b-4688-bf6a-d29c9723654d"
   },
   "outputs": [
    {
     "name": "stdout",
     "output_type": "stream",
     "text": [
      "{'brand': 'Ford', 'year': 1964}\n"
     ]
    }
   ],
   "source": [
    "thisdict =\t{\n",
    "  \"brand\": \"Ford\",\n",
    "  \"model\": \"Mustang\",\n",
    "  \"year\": 1964\n",
    "}\n",
    "del thisdict[\"model\"]\n",
    "print(thisdict)"
   ]
  },
  {
   "cell_type": "code",
   "execution_count": 88,
   "metadata": {
    "colab": {},
    "colab_type": "code",
    "id": "C8WlRMUaRnYG"
   },
   "outputs": [],
   "source": [
    "# The del keyword can also delete the dictionary completely:\n",
    "thisdict =\t{\n",
    "  \"brand\": \"Ford\",\n",
    "  \"model\": \"Mustang\",\n",
    "  \"year\": 1964\n",
    "}\n",
    "del thisdict"
   ]
  },
  {
   "cell_type": "code",
   "execution_count": 89,
   "metadata": {
    "colab": {
     "base_uri": "https://localhost:8080/",
     "height": 34
    },
    "colab_type": "code",
    "id": "fq3_Kc6xRrkK",
    "outputId": "94bd7f73-ca4b-4304-d4f9-ca14dbd75810"
   },
   "outputs": [
    {
     "name": "stdout",
     "output_type": "stream",
     "text": [
      "{}\n"
     ]
    }
   ],
   "source": [
    "# The clear() keyword empties the dictionary:\n",
    "thisdict =\t{\n",
    "  \"brand\": \"Ford\",\n",
    "  \"model\": \"Mustang\",\n",
    "  \"year\": 1964\n",
    "}\n",
    "thisdict.clear()\n",
    "print(thisdict)"
   ]
  },
  {
   "cell_type": "code",
   "execution_count": 90,
   "metadata": {
    "colab": {
     "base_uri": "https://localhost:8080/",
     "height": 34
    },
    "colab_type": "code",
    "id": "8PQh0yqzRwE-",
    "outputId": "d1cdcbbf-122f-45e9-a7c6-de87af329045"
   },
   "outputs": [
    {
     "name": "stdout",
     "output_type": "stream",
     "text": [
      "{'brand': 'Ford', 'model': 'Mustang', 'year': 1964}\n"
     ]
    }
   ],
   "source": [
    "#  Copying a Dictionary\n",
    "# Same as lists, You cannot copy a dictionary simply by typing dict2 = dict1,\n",
    "# because: dict2 will only be a reference to dict1, and changes made in dict1 \n",
    "# will automatically also be made in dict2.\n",
    "# \n",
    "# There are various ways to make a copy, \n",
    "# one way is to use the built-in Dictionary method copy().\n",
    "thisdict =\t{\n",
    "  \"brand\": \"Ford\",\n",
    "  \"model\": \"Mustang\",\n",
    "  \"year\": 1964\n",
    "}\n",
    "mydict = thisdict.copy()\n",
    "print(mydict)"
   ]
  },
  {
   "cell_type": "code",
   "execution_count": 91,
   "metadata": {
    "colab": {
     "base_uri": "https://localhost:8080/",
     "height": 34
    },
    "colab_type": "code",
    "id": "S__1MArwR-Wg",
    "outputId": "7b625ab0-4727-41aa-e0f1-d13277989116"
   },
   "outputs": [
    {
     "name": "stdout",
     "output_type": "stream",
     "text": [
      "{'brand': 'Ford', 'model': 'Mustang', 'year': 1964}\n"
     ]
    }
   ],
   "source": [
    "# Another way to make a copy is to use the built-in method dict().\n",
    "thisdict =\t{\n",
    "  \"brand\": \"Ford\",\n",
    "  \"model\": \"Mustang\",\n",
    "  \"year\": 1964\n",
    "}\n",
    "mydict = dict(thisdict)\n",
    "print(mydict)"
   ]
  },
  {
   "cell_type": "code",
   "execution_count": 92,
   "metadata": {
    "colab": {
     "base_uri": "https://localhost:8080/",
     "height": 34
    },
    "colab_type": "code",
    "id": "CPDHrfIASBUA",
    "outputId": "0d6bd37a-10ce-4259-f19e-a49fa5f1d166"
   },
   "outputs": [
    {
     "name": "stdout",
     "output_type": "stream",
     "text": [
      "{'e': 'vowel', 'o': 'vowel', 'i': 'vowel', 'u': 'vowel', 'a': 'vowel'}\n"
     ]
    }
   ],
   "source": [
    "# Creating a dictionary with keys and a value\n",
    "# vowels keys\n",
    "keys = {'a', 'e', 'i', 'o', 'u' }\n",
    "value = 'vowel'\n",
    "vowels = dict.fromkeys(keys, value)\n",
    "print(vowels)"
   ]
  },
  {
   "cell_type": "code",
   "execution_count": 93,
   "metadata": {
    "colab": {
     "base_uri": "https://localhost:8080/",
     "height": 34
    },
    "colab_type": "code",
    "id": "N7fU61UdSlDz",
    "outputId": "14ee0b80-d17d-441e-c017-ceb676f43b6d"
   },
   "outputs": [
    {
     "data": {
      "text/plain": [
       "dict_items([('brand', 'Ford'), ('model', 'Mustang'), ('year', 1964)])"
      ]
     },
     "execution_count": 93,
     "metadata": {},
     "output_type": "execute_result"
    }
   ],
   "source": [
    "# Key-value pairs\n",
    "thisdict = {\n",
    "  \"brand\": \"Ford\",\n",
    "  \"model\": \"Mustang\",\n",
    "  \"year\": 1964\n",
    "}\n",
    "thisdict.items()"
   ]
  },
  {
   "cell_type": "code",
   "execution_count": 94,
   "metadata": {
    "colab": {
     "base_uri": "https://localhost:8080/",
     "height": 34
    },
    "colab_type": "code",
    "id": "j7Nzv6ZPTa2e",
    "outputId": "0b1bde9c-2880-4b85-c0e3-438fd675b19f"
   },
   "outputs": [
    {
     "data": {
      "text/plain": [
       "dict_keys(['brand', 'model', 'year'])"
      ]
     },
     "execution_count": 94,
     "metadata": {},
     "output_type": "execute_result"
    }
   ],
   "source": [
    "thisdict.keys()"
   ]
  },
  {
   "cell_type": "code",
   "execution_count": 95,
   "metadata": {
    "colab": {
     "base_uri": "https://localhost:8080/",
     "height": 34
    },
    "colab_type": "code",
    "id": "EcuF1kKUT35M",
    "outputId": "c5b5ba64-9035-4a2b-8eed-e5a61dbb73d0"
   },
   "outputs": [
    {
     "data": {
      "text/plain": [
       "dict_values(['Ford', 'Mustang', 1964])"
      ]
     },
     "execution_count": 95,
     "metadata": {},
     "output_type": "execute_result"
    }
   ],
   "source": [
    "thisdict.values()"
   ]
  },
  {
   "attachments": {},
   "cell_type": "markdown",
   "metadata": {
    "colab": {},
    "colab_type": "code",
    "id": "r4b4_WmsT5Rn"
   },
   "source": [
    "# Summary\n",
    "\n",
    "A dictionary is a collection which is unordered, changeable and indexed. \n",
    "\n",
    "In Python dictionaries are written with curly brackets, and they have keys and values.\n",
    "\n",
    "\n",
    "clear()\t\t    Removes all the elements from the dictionary //\n",
    "copy()\t\t    Returns a copy of the dictionary //\n",
    "fromkeys()\t    Returns a dictionary with the specified keys and values //\n",
    "get()\t\t    Returns the value of the specified key //\n",
    "items()\t\t    Returns a list containing the a tuple for each key value pair //\n",
    "keys()\t\t    Returns a list containing the dictionary's keys //\n",
    "pop()\t\t    Removes the element with the specified key //\n",
    "popitem()\t\tRemoves the last inserted key-value pair //\n",
    "setdefault()\tReturns the value of the specified key. If the key does not exist: \t\t\n",
    "                insert the key, with the specified value\n",
    "update()\t\tUpdates the dictionary with the specified key-value pairs //\n",
    "values()\t\tReturns a list of all the values in the dictionary //\n",
    "\n"
   ]
  }
 ],
 "metadata": {
  "colab": {
   "collapsed_sections": [],
   "name": "Lists.ipynb",
   "provenance": [],
   "version": "0.3.2"
  },
  "kernelspec": {
   "display_name": "Python 3 (ipykernel)",
   "language": "python",
   "name": "python3"
  },
  "language_info": {
   "codemirror_mode": {
    "name": "ipython",
    "version": 3
   },
   "file_extension": ".py",
   "mimetype": "text/x-python",
   "name": "python",
   "nbconvert_exporter": "python",
   "pygments_lexer": "ipython3",
   "version": "3.9.13"
  }
 },
 "nbformat": 4,
 "nbformat_minor": 4
}
